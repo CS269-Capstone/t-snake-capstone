{
 "cells": [
  {
   "cell_type": "code",
   "execution_count": null,
   "metadata": {},
   "outputs": [],
   "source": [
    "import cv2\n",
    "import numpy as np\n",
    "import matplotlib.pyplot as plt\n",
    "\n",
    "import tsnake.initialize as init"
   ]
  },
  {
   "cell_type": "markdown",
   "metadata": {},
   "source": [
    "# Load and display the grayscale image, raw input mask"
   ]
  },
  {
   "cell_type": "code",
   "execution_count": null,
   "metadata": {},
   "outputs": [],
   "source": [
    "msk_path = './examples/places2/case1_mask.png'\n",
    "img_path = './examples/places2/case1_raw.png'\n",
    "\n",
    "mask = init.load_mask(msk_path)\n",
    "image = init.load_grayscale_image(img_path)\n",
    "\n",
    "f, (ax1, ax2) = plt.subplots(1, 2, figsize=(10, 20))\n",
    "ax1.imshow(image, cmap=plt.cm.binary)\n",
    "ax2.imshow(mask)\n",
    "plt.show()"
   ]
  },
  {
   "cell_type": "markdown",
   "metadata": {},
   "source": [
    "# Compute bounding boxes for each distinct masked region "
   ]
  },
  {
   "cell_type": "code",
   "execution_count": null,
   "metadata": {},
   "outputs": [],
   "source": [
    "regions = init._find_disjoint_masked_regions(mask)\n",
    "\n",
    "init.visualize_masked_regions(mask, regions)"
   ]
  },
  {
   "cell_type": "markdown",
   "metadata": {},
   "source": [
    "# Display the sub-images that will each be processed separately\n",
    "\n",
    "* @cole: The red lines are the initial T-snakes. I tried to get the initial snake to closely follow the user-defined mask, but it's clearly not perfect"
   ]
  },
  {
   "cell_type": "code",
   "execution_count": null,
   "metadata": {},
   "outputs": [],
   "source": [
    "regions = init.compute_masked_regions(image, mask)\n",
    "\n",
    "for region in regions:\n",
    "    # uncomment this to initialize the T-snake\n",
    "    # and show its initial configuration here\n",
    "#     tsnake = region.initialize_tsnake(\n",
    "#         N=1000, p=1.0, c=1.0, sigma=1.0, a=1.0, b=1.0, gamma=1.0, \n",
    "#         dt=0.01\n",
    "#     )\n",
    "    print('================')\n",
    "    region.visualize()\n",
    "    print(region)\n",
    "    "
   ]
  }
 ],
 "metadata": {
  "kernelspec": {
   "display_name": "Python 3",
   "language": "python",
   "name": "python3"
  },
  "language_info": {
   "codemirror_mode": {
    "name": "ipython",
    "version": 3
   },
   "file_extension": ".py",
   "mimetype": "text/x-python",
   "name": "python",
   "nbconvert_exporter": "python",
   "pygments_lexer": "ipython3",
   "version": "3.6.7"
  },
  "latex_envs": {
   "LaTeX_envs_menu_present": true,
   "autoclose": false,
   "autocomplete": true,
   "bibliofile": "biblio.bib",
   "cite_by": "apalike",
   "current_citInitial": 1,
   "eqLabelWithNumbers": true,
   "eqNumInitial": 1,
   "hotkeys": {
    "equation": "Ctrl-E",
    "itemize": "Ctrl-I"
   },
   "labels_anchors": false,
   "latex_user_defs": false,
   "report_style_numbering": false,
   "user_envs_cfg": false
  }
 },
 "nbformat": 4,
 "nbformat_minor": 2
}
