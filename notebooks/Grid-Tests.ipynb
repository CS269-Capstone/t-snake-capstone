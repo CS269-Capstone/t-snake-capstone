{
 "cells": [
  {
   "cell_type": "code",
   "execution_count": 1,
   "metadata": {},
   "outputs": [],
   "source": [
    "### Imports for Allen's Outdated Grid test code ###\n",
    "import cv2\n",
    "import numpy as np\n",
    "import matplotlib.pyplot as plt\n",
    "\n",
    "import tsnake.initialize as init\n",
    "from tsnake.snake import TSnake, Element, Node\n",
    "from tsnake.grid import Grid, Point\n",
    "from tsnake.utils import dist, seg_intersect"
   ]
  },
  {
   "cell_type": "markdown",
   "metadata": {},
   "source": [
    "## Image Loading"
   ]
  },
  {
   "cell_type": "code",
   "execution_count": 2,
   "metadata": {},
   "outputs": [
    {
     "name": "stdout",
     "output_type": "stream",
     "text": [
      "Force shape: (512, 680, 2)\n"
     ]
    }
   ],
   "source": [
    "positions = [(0.9, 0.9), (1.1, 0.9), (1.1, 1.1), (0.9, 1.1)]\n",
    "nodes = [Node(p[0], p[1]) for p in positions]\n",
    "\n",
    "# NOTE: Manual Testing for image functions\n",
    "# Replace plane.png with any image locally in the folder\n",
    "img_path = '../examples/places2/case1_raw.png'\n",
    "img = init.load_grayscale_image(img_path)\n",
    "grid = Grid(img, 0.5)\n",
    "grey = grid.get_inflation_force(10)\n",
    "force = grid.get_image_force(1, 1, 1)\n",
    "\n",
    "snake = TSnake(nodes, force, grey, 1, 1, 1, 1)\n",
    "\n",
    "cv2.imshow(\"image\", img)\n",
    "cv2.imshow(\"grey_image\", grey)\n",
    "# Can't show force as an inage, since it is l x w x 2 (would need to be x3 for an image)\n",
    "print(\"Force shape: {}\".format(force.shape))\n",
    "# cv2.imshow(\"force_image\", force) \n",
    "cv2.waitKey(0)\n",
    "cv2.destroyAllWindows()\n"
   ]
  },
  {
   "cell_type": "markdown",
   "metadata": {},
   "source": [
    "## Point Creation and Intersections"
   ]
  },
  {
   "cell_type": "code",
   "execution_count": 3,
   "metadata": {},
   "outputs": [
    {
     "name": "stdout",
     "output_type": "stream",
     "text": [
      "Representation format is (pt):hash\n",
      "[[(1, 1) (1, 1)]\n",
      " [(1, 3) (1, 4)]]\n",
      "Simplex Grid shape: (1024, 1360)\n",
      "8346306 total edges, 4173153 unique edges, total/unique = 2.0, expect about 2\n",
      "IDXS: [0 0]\n",
      "3.1622776601683795\n",
      "Intersections, 6 expected, found 8\n",
      "[[(1.1, 0.9), (1.0, 0.9), (1.1, 0.9), (1.1, 1.0), (1.0, 1.1), (0.9, 1.1), (0.9, 1.1), (0.9, 1.0)]]\n"
     ]
    }
   ],
   "source": [
    "\n",
    "pts = [[Point(1, 1), Point(1, 1)],\n",
    "       [Point(1, 3), Point(1, 4)]]\n",
    "\n",
    "pts = np.array(pts)\n",
    "print(\"Representation format is (pt):hash\")\n",
    "print(str(pts))\n",
    "assert pts[0][0] == pts[0][1], \"Point's should be equal\"\n",
    "\n",
    "grid.gen_simplex_grid()\n",
    "print(\"Simplex Grid shape: {}\".format(grid.grid.shape))\n",
    "\n",
    "count = 0\n",
    "for i in range(grid.grid.shape[0]):\n",
    "    for j in range(grid.grid.shape[1]):\n",
    "        count += len(grid.grid[i, j].adjacent_edges)\n",
    "print(\"{} total edges, {} unique edges, total/unique = {}, expect about 2\".format(\n",
    "    count, len(grid.edges), count/len(grid.edges)))\n",
    "\n",
    "# Testing intersection finding math\n",
    "position = np.array([0.9, 0.9])\n",
    "pos_frac = position - np.fix(position)\n",
    "pos_whole = position - pos_frac\n",
    "remainder = np.fmod(pos_frac, 1)\n",
    "idx = np.array((position-remainder)/1, dtype=int)\n",
    "\n",
    "print(\"IDXS: {}\".format(idx))\n"
   ]
  },
  {
   "cell_type": "markdown",
   "metadata": {},
   "source": [
    "## Intersections"
   ]
  },
  {
   "cell_type": "code",
   "execution_count": null,
   "metadata": {},
   "outputs": [],
   "source": [
    "a, b = np.array([1, 1]), np.array([2, 4])\n",
    "print(dist(a, b))\n",
    "\n",
    "# testing actual intersection finding\n",
    "grid.add_snake(snake)\n",
    "intersections = grid.get_snake_intersections()\n",
    "print(\"Intersections, 6 expected, found {}\".format(\n",
    "    len(intersections[0])))\n",
    "print(intersections)"
   ]
  }
 ],
 "metadata": {
  "kernelspec": {
   "display_name": "Python 3",
   "language": "python",
   "name": "python3"
  },
  "language_info": {
   "codemirror_mode": {
    "name": "ipython",
    "version": 3
   },
   "file_extension": ".py",
   "mimetype": "text/x-python",
   "name": "python",
   "nbconvert_exporter": "python",
   "pygments_lexer": "ipython3",
   "version": "3.7.1"
  }
 },
 "nbformat": 4,
 "nbformat_minor": 2
}