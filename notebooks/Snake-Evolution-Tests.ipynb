{
 "cells": [
  {
   "cell_type": "markdown",
   "metadata": {},
   "source": [
    "# Testing Snake creation and evolution\n",
    "Much (but not all) of this code will be duplicated to [main.py](../main.py)"
   ]
  },
  {
   "cell_type": "code",
   "execution_count": 1,
   "metadata": {},
   "outputs": [],
   "source": [
    "import cv2\n",
    "import numpy as np\n",
    "import matplotlib.pyplot as plt\n",
    "from tqdm import tqdm_notebook as tqdm\n",
    "\n",
    "import tsnake.initialize as init\n",
    "from tsnake.snake import TSnake, Element, Node\n",
    "from tsnake.grid import Grid, Point\n",
    "from tsnake.utils import dist, seg_intersect\n"
   ]
  },
  {
   "cell_type": "markdown",
   "metadata": {},
   "source": [
    "## Load images, compute masked reigons\n",
    "### Link to images I used for the plane are [here](https://drive.google.com/open?id=1TK6rc-USD4KKI0Bss_B6r4l13oAD2uqG)"
   ]
  },
  {
   "cell_type": "code",
   "execution_count": 2,
   "metadata": {},
   "outputs": [
    {
     "name": "stdout",
     "output_type": "stream",
     "text": "number of masked regions: 8\n"
    }
   ],
   "source": [
    "msk_path = '../t-snake-mask-generation/examples/places2/case1_mask.png'\n",
    "img_path = '../t-snake-mask-generation/examples/places2/case1_raw.png'\n",
    "\n",
    "mask = init.load_mask(path=msk_path, convert=True)\n",
    "image = init.load_grayscale_image(img_path)\n",
    "\n",
    "regions = init._find_disjoint_masked_regions(mask)\n",
    "# NOTE: Uncomment to visialize initial masked reigons\n",
    "# init.visualize_masked_regions(mask, regions)\n",
    "\n",
    "regions = init.compute_masked_regions(image, mask)\n",
    "print('number of masked regions:', len(regions))\n"
   ]
  },
  {
   "cell_type": "markdown",
   "metadata": {},
   "source": [
    "## Initialize t-snakes\n",
    "_Note: Length 17 t-snake (i.e. the sort one) is visibly wrong, not sure how we can fix that_\n",
    "*Legend*\n",
    "* Green lines: Normal vectors\n",
    "* White Nodes: Initial 5 nodes of the snake\n",
    "* Yellow Nodes: Final 5 nodes of the snake\n",
    "    * This tells us which way the snake was initialized, Counter Clockwise or Clockwise"
   ]
  },
  {
   "cell_type": "code",
   "execution_count": 3,
   "metadata": {},
   "outputs": [
    {
     "name": "stdout",
     "output_type": "stream",
     "text": "Length of T-Snakes initialized on image:\n[32, 132, 174, 352, 464, 607, 1030, 1049]\n"
    }
   ],
   "source": [
    "tsnakes = []\n",
    "\n",
    "### Parameters for T-snakes ### \n",
    "sigma = 20.0    # gaussian filter sigma\n",
    "p = 1.0         # scale final image force with p\n",
    "c = 2.0         # scale gradient magnitude of image (applied before p)\n",
    "a = 1.0         # tension parameter\n",
    "b = 1.0         # bending parameter\n",
    "q = 1.0         # amplitude of the inflation force\n",
    "gamma = 1.0     # friction coefficient\n",
    "dt = 1.0        # time step\n",
    "threshold = 10  # inflation force treshold\n",
    "\n",
    "for region in regions:\n",
    "    tsnake = region.initialize_tsnake(\n",
    "        N=1000, p=p, c=c, sigma=sigma, a=a, b=b, q=q, gamma=gamma,\n",
    "        dt=dt, threshold=threshold\n",
    "    )\n",
    "    tsnakes.append(tsnake)\n",
    "    # region.visualize() # NOTE: To show tsnakes on images, uncomment\n",
    "\n",
    "tsnakes.sort(key=lambda t: len(t.nodes))\n",
    "t_snake_lengths = [len(t.nodes) for t in tsnakes]\n",
    "print('Length of T-Snakes initialized on image:\\n{}'.format(t_snake_lengths))\n"
   ]
  },
  {
   "cell_type": "markdown",
   "execution_count": 62,
   "metadata": {},
   "outputs": [],
   "source": [
    "## Create Grid"
   ]
  },
  {
   "cell_type": "code",
   "execution_count": 4,
   "metadata": {},
   "outputs": [
    {
     "name": "stdout",
     "output_type": "stream",
     "text": "image shape:  (512, 680)\nSimplex grid shape: (512, 680)\n"
    }
   ],
   "source": [
    "image = init.load_grayscale_image(img_path)\n",
    "print('image shape: ', image.shape)\n",
    "grid = Grid(image=image, scale=1)\n",
    "\n",
    "# Update grid\n",
    "# NOTE: Uncomment for force, expensive calculation\n",
    "# force = grid.get_image_force(2,2,2)\n",
    "grid.gen_simplex_grid()\n",
    "print('Simplex grid shape: {}'.format(grid.grid.shape))\n"
   ]
  },
  {
   "cell_type": "markdown",
   "metadata": {},
   "source": [
    "## Test Intersection Computation"
   ]
  },
  {
   "cell_type": "code",
   "execution_count": 5,
   "metadata": {},
   "outputs": [
    {
     "name": "stdout",
     "output_type": "stream",
     "text": "shape of tsnakes: (8,)\nintersections shape: (8,)\nnum of intersections for each t-snake: [32, 132, 174, 352, 464, 609, 1030, 1054]\n"
    }
   ],
   "source": [
    "print('shape of tsnakes:', np.shape(tsnakes))\n",
    "\n",
    "# Compute snake intersections with grid\n",
    "intersections = grid.get_snake_intersections(tsnakes)\n",
    "print('intersections shape:', np.shape(intersections))\n",
    "\n",
    "n_inter_for_each_t_snake = [len(inter) for inter in intersections]\n",
    "print('num of intersections for each t-snake:', n_inter_for_each_t_snake)\n"
   ]
  },
  {
   "cell_type": "markdown",
   "metadata": {},
   "source": [
    "## Test snake evolution"
   ]
  },
  {
   "cell_type": "code",
   "execution_count": 6,
   "metadata": {},
   "outputs": [
    {
     "data": {
      "application/vnd.jupyter.widget-view+json": {
       "model_id": "8942b098249947e1a1dac7123fcda6b7",
       "version_major": 2,
       "version_minor": 0
      },
      "text/plain": "HBox(children=(IntProgress(value=0, max=1), HTML(value='')))"
     },
     "metadata": {},
     "output_type": "display_data"
    },
    {
     "name": "stdout",
     "output_type": "stream",
     "text": "\n"
    },
    {
     "data": {
      "text/plain": "<Figure size 576x576 with 0 Axes>"
     },
     "metadata": {},
     "output_type": "display_data"
    },
    {
     "data": {
      "text/plain": "<Figure size 576x576 with 0 Axes>"
     },
     "metadata": {},
     "output_type": "display_data"
    }
   ],
   "source": [
    "regions[1].show_snake(save_fig='images/img0.png')\n",
    "\n",
    "# Test snake evolution\n",
    "iterations = 1 # dummy value for testing purposes\n",
    "M = 5\n",
    "\n",
    "# Pick just one (for testing purposes) of the snakes on the grid\n",
    "snakes = [tsnakes[1]]\n",
    "\n",
    "# save the initial position of the snake\n",
    "# for i in tqdm(range(snake.num_nodes)):\n",
    "#     pos = snake.nodes[i].position\n",
    "\n",
    "# run iterations=20 of:\n",
    "# 1) the m-step function (which has M=5 deformation steps), and\n",
    "# 2) the reparameterization (occuring every M=5 deformation steps)\n",
    "for j in tqdm(range(iterations)):\n",
    "    for snake in snakes:\n",
    "        snake.m_step(M)\n",
    "    new_snakes = grid.reparameterize(snakes)\n",
    "\n",
    "    # save the updated positions of the nodes\n",
    "    # for i in range(snake.num_nodes):\n",
    "    #     pos = snake.nodes[i].position\n",
    "    #     #print(pos)\n",
    "    #     X[i, j+1] = pos[0,0]\n",
    "    #     Y[i, j+1]= pos[0,1]\n",
    "\n",
    "    regions[1].show_snake(save_fig='images/img{}.png'.format(j+1))\n"
   ]
  },
  {
   "cell_type": "markdown",
   "metadata": {},
   "source": [
    "## Visualize Evolution"
   ]
  },
  {
   "cell_type": "code",
   "execution_count": 19,
   "metadata": {},
   "outputs": [],
   "source": [
    "# plt.imshow(image, cmap=plt.cm.binary)\n",
    "# colors = ['red', 'blue', 'orange', 'green','black']\n",
    "# for i in tqdm(range(M)):\n",
    "#     plt.clf()\n",
    "#     plt.scatter(Y[:,i], X[:,i], c='red', s=1, alpha=0.5)\n",
    "#     plt.savefig('images/img{}.png'.format(i))\n"
   ]
  }
 ],
 "metadata": {
  "kernelspec": {
   "display_name": "Python 3",
   "language": "python",
   "name": "python3"
  },
  "language_info": {
   "codemirror_mode": {
    "name": "ipython",
    "version": 3
   },
   "file_extension": ".py",
   "mimetype": "text/x-python",
   "name": "python",
   "nbconvert_exporter": "python",
   "pygments_lexer": "ipython3",
   "version": "3.7.4"
  }
 },
 "nbformat": 4,
 "nbformat_minor": 2
}