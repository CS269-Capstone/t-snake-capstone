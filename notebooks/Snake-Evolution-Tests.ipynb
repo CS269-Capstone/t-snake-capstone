{
 "cells": [
  {
   "cell_type": "markdown",
   "metadata": {},
   "source": [
    "# Testing Snake creation and evolution\n",
    "Much (but not all) of this code will be duplicated to [main.py](../main.py)"
   ]
  },
  {
   "cell_type": "code",
   "execution_count": 1,
   "metadata": {},
   "outputs": [],
   "source": [
    "import cv2\n",
    "import numpy as np\n",
    "import matplotlib.pyplot as plt\n",
    "from tqdm import tqdm_notebook as tqdm\n",
    "\n",
    "import tsnake.initialize as init\n",
    "from tsnake.snake import TSnake, Element, Node\n",
    "from tsnake.grid import Grid, Point\n",
    "from tsnake.utils import dist, seg_intersect\n"
   ]
  },
  {
   "cell_type": "markdown",
   "metadata": {},
   "source": [
    "## Load images, compute masked reigons\n",
    "### Link to images I used for the plane are [here](https://drive.google.com/open?id=1TK6rc-USD4KKI0Bss_B6r4l13oAD2uqG)"
   ]
  },
  {
   "cell_type": "code",
   "execution_count": 2,
   "metadata": {},
   "outputs": [
    {
     "name": "stdout",
     "output_type": "stream",
     "text": [
      "New image shape is (680, 680)\n",
      "New mask shape is (680, 680)\n"
     ]
    },
    {
     "data": {
      "image/png": "[encoded data removed]",
      "text/plain": [
       "<Figure size 720x1440 with 2 Axes>"
      ]
     },
     "metadata": {
      "needs_background": "light"
     },
     "output_type": "display_data"
    },
    {
     "name": "stdout",
     "output_type": "stream",
     "text": [
      "number of masked regions: 8\n"
     ]
    }
   ],
   "source": [
    "msk_path = '../examples/places2/case1_mask.png'\n",
    "img_path = '../examples/places2/case1_raw.png'\n",
    "# img_path = '../examples/test/circle.png'\n",
    "# img_path = '../examples/test/plane.png'\n",
    "\n",
    "mask = init.load_mask(path=msk_path, convert=True)\n",
    "image = init.load_grayscale_image(img_path)\n",
    "\n",
    "# Pad image to a square so ACID grid size can be upscaled\n",
    "h, w = image.shape\n",
    "if h > w:\n",
    "    temp = np.ones((h, h))*255\n",
    "    temp[:, :w] = image\n",
    "    image = temp\n",
    "else:\n",
    "    temp = np.ones((w, w))*255\n",
    "    temp[:h, :] = image\n",
    "    image = temp\n",
    "\n",
    "if mask is not None:\n",
    "    temp = np.zeros(image.shape)\n",
    "    if h > w:\n",
    "        temp[:, :w] = mask\n",
    "        mask = temp\n",
    "    else:\n",
    "        temp[:h, :] = mask\n",
    "        mask = temp\n",
    "\n",
    "# mask = np.zeros_like(image)\n",
    "# mask[5:-5, 5:-5] = 1\n",
    "\n",
    "print(\"New image shape is {}\".format(image.shape))\n",
    "print(\"New mask shape is {}\".format(mask.shape))\n",
    "\n",
    "regions = init._find_disjoint_masked_regions(mask)\n",
    "# NOTE: Uncomment to visialize initial masked reigons\n",
    "init.visualize_masked_regions(mask, regions)\n",
    "\n",
    "regions = init.compute_masked_regions(image, mask)\n",
    "print('number of masked regions:', len(regions))\n"
   ]
  },
  {
   "cell_type": "markdown",
   "metadata": {},
   "source": [
    "## Initialize t-snakes\n",
    "_Note: Length 17 t-snake (i.e. the sort one) is visibly wrong, not sure how we can fix that_\n",
    "*Legend*\n",
    "* Green lines: Normal vectors\n",
    "* White Nodes: Initial 5 nodes of the snake\n",
    "* Yellow Nodes: Final 5 nodes of the snake\n",
    "    * This tells us which way the snake was initialized, Counter Clockwise or Clockwise"
   ]
  },
  {
   "cell_type": "code",
   "execution_count": 21,
   "metadata": {},
   "outputs": [
    {
     "name": "stdout",
     "output_type": "stream",
     "text": [
      "Length of T-Snakes initialized on image:\n",
      "[607, 132, 525, 464, 174, 515, 32, 352]\n"
     ]
    }
   ],
   "source": [
    "### Parameters for T-snakes ### \n",
    "N = 500           # 30 nodes\n",
    "p = 0.002        # scale for Eq (7)\n",
    "c = 12.0         # scale for Eq (A.4)\n",
    "a = 17.5         # tension param in Eq (8)\n",
    "b = 35.0         # bending param in Eq (8)\n",
    "q = 30.0         # scale for Eq (4)\n",
    "gamma = 4.0      # friction param in Eq (8)\n",
    "dt = 0.08        # step size in Eq (8)\n",
    "sigma = 1.0      # gaussian filter param in Eq (A.4)\n",
    "threshold = 30\n",
    "\n",
    "# region = compute_masked_regions(image, mask)[0]\n",
    "# region.initialize_tsnake(N, p, c, sigma, a, b, q, gamma, dt, threshold)\n",
    "# region.visualize()\n",
    "\n",
    "# snake = region._initial_tsnake\n",
    "\n",
    "tsnakes = []\n",
    "\n",
    "for region in regions:\n",
    "    tsnake = region.initialize_tsnake(\n",
    "        N=N, p=p, c=c, sigma=sigma, a=a, b=b, q=q, gamma=gamma,\n",
    "        dt=dt, threshold=threshold\n",
    "    )\n",
    "    tsnakes.append(tsnake)\n",
    "#     region.visualize() # NOTE: To show tsnakes on images, uncomment\n",
    "\n",
    "# tsnakes.sort(key=lambda t: len(t.nodes))\n",
    "t_snake_lengths = [len(t.nodes) for t in tsnakes]\n",
    "print('Length of T-Snakes initialized on image:\\n{}'.format(t_snake_lengths))"
   ]
  },
  {
   "cell_type": "markdown",
   "metadata": {},
   "source": [
    "## Create Grid"
   ]
  },
  {
   "cell_type": "code",
   "execution_count": 22,
   "metadata": {},
   "outputs": [
    {
     "name": "stdout",
     "output_type": "stream",
     "text": [
      "image shape:  (680, 680) \n",
      "scale:  2.65625\n"
     ]
    }
   ],
   "source": [
    "# image = init.load_grayscale_image(img_path)\n",
    "xdim, ydim = image.shape\n",
    "scale = np.gcd(xdim, ydim)\n",
    "scale /= 256\n",
    "print('image shape: ', image.shape, '\\nscale: ', scale)\n"
   ]
  },
  {
   "cell_type": "code",
   "execution_count": 23,
   "metadata": {},
   "outputs": [
    {
     "name": "stdout",
     "output_type": "stream",
     "text": [
      "Simplex grid shape: (257, 257)\n"
     ]
    }
   ],
   "source": [
    "acid_grid = Grid(image=image, scale=scale)\n",
    "\n",
    "# Update grid\n",
    "# NOTE: Uncomment for force, expensive calculation, done locally in each masked region\n",
    "# acid_grid.get_image_force(sigma=sigma, c=c, p=p)\n",
    "# acid_grid.get_inflation_force(threshold=threshold)\n",
    "acid_grid.gen_simplex_grid()\n",
    "print('Simplex grid shape: {}'.format(acid_grid.grid.shape))\n"
   ]
  },
  {
   "cell_type": "markdown",
   "metadata": {},
   "source": [
    "## Test snake evolution"
   ]
  },
  {
   "cell_type": "code",
   "execution_count": null,
   "metadata": {
    "scrolled": true
   },
   "outputs": [
    {
     "data": {
      "application/vnd.jupyter.widget-view+json": {
       "model_id": "8f954a365fa34e22bcc5839759b40379",
       "version_major": 2,
       "version_minor": 0
      },
      "text/plain": [
       "HBox(children=(IntProgress(value=0, max=5), HTML(value='')))"
      ]
     },
     "metadata": {},
     "output_type": "display_data"
    },
    {
     "name": "stdout",
     "output_type": "stream",
     "text": [
      "525\n",
      "777\n",
      "777\n",
      "697\n",
      "697\n"
     ]
    }
   ],
   "source": [
    "iterations = 5\n",
    "target_region = 2\n",
    "M = 15\n",
    "# plot_grid = acid_grid # Uncomment and comment next line to plot ACID grid lines on image\n",
    "plot_grid = None\n",
    "\n",
    "\n",
    "region = regions[target_region]\n",
    "for i in tqdm(range(iterations)):\n",
    "    region_snake = tsnakes[target_region]\n",
    "    # Run:\n",
    "    # 1) the m-step function (which has M deformation steps), and\n",
    "    # 2) the reparameterization (occuring every M deformation steps)\n",
    "    region.show_snake(snake=region_snake, grid=plot_grid, save_fig='reparam/iter{}.0.png'.format(i))\n",
    "    \n",
    "    print(len(region_snake.nodes))\n",
    "    region_snake.m_step(M)\n",
    "    region.show_snake(snake=region_snake, grid=plot_grid, save_fig='reparam/iter{}.1.png'.format(i))\n",
    "    \n",
    "    new_region_snakes, grid_node_queue = acid_grid.reparameterize_phase_one([region_snake])\n",
    "    tsnakes[target_region] = new_region_snakes[0]\n",
    "    region.show_snake(snake=tsnakes[target_region], grid=plot_grid, save_fig='reparam/iter{}.2.png'.format(i))\n",
    "    print(len(new_region_snakes[0].nodes))\n",
    "    "
   ]
  },
  {
   "cell_type": "markdown",
   "metadata": {},
   "source": [
    "## Test Intersection Computation"
   ]
  },
  {
   "cell_type": "code",
   "execution_count": null,
   "metadata": {},
   "outputs": [],
   "source": [
    "print('shape of tsnakes:', np.shape(tsnakes))\n",
    "\n",
    "# Compute snake intersections with grid\n",
    "intersections = acid_grid.get_snake_intersections(tsnakes)\n",
    "print('intersections shape:', np.shape(intersections))\n",
    "\n",
    "n_inter_for_each_t_snake = [len(inter) for inter in intersections]\n",
    "print('num of intersections for each t-snake:', n_inter_for_each_t_snake)\n"
   ]
  }
 ],
 "metadata": {
  "kernelspec": {
   "display_name": "Python 3",
   "language": "python",
   "name": "python3"
  },
  "language_info": {
   "codemirror_mode": {
    "name": "ipython",
    "version": 3
   },
   "file_extension": ".py",
   "mimetype": "text/x-python",
   "name": "python",
   "nbconvert_exporter": "python",
   "pygments_lexer": "ipython3",
   "version": "3.7.1"
  }
 },
 "nbformat": 4,
 "nbformat_minor": 2
}
