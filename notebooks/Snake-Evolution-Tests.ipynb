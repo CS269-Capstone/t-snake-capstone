{
 "cells": [
  {
   "cell_type": "markdown",
   "metadata": {},
   "source": [
    "# Testing Snake creation and evolution\n",
    "Much (but not all) of this code will be duplicated to [main.py](../main.py)"
   ]
  },
  {
   "cell_type": "code",
   "execution_count": 1,
   "metadata": {},
   "outputs": [],
   "source": [
    "import cv2\n",
    "import numpy as np\n",
    "import matplotlib.pyplot as plt\n",
    "from tqdm import tqdm_notebook as tqdm\n",
    "\n",
    "import tsnake.initialize as init\n",
    "from tsnake.snake import TSnake, Element, Node\n",
    "from tsnake.grid import Grid, Point\n",
    "from tsnake.utils import dist, seg_intersect\n"
   ]
  },
  {
   "cell_type": "markdown",
   "metadata": {},
   "source": [
    "## Load images, compute masked reigons\n",
    "### Link to images I used for the plane are [here](https://drive.google.com/open?id=1TK6rc-USD4KKI0Bss_B6r4l13oAD2uqG)"
   ]
  },
  {
   "cell_type": "code",
   "execution_count": 2,
   "metadata": {},
   "outputs": [
    {
     "name": "stdout",
     "output_type": "stream",
     "text": "number of masked regions: 8\n"
    }
   ],
   "source": [
    "msk_path = '../examples/places2/case1_mask.png'\n",
    "img_path = '../examples/places2/case1_raw.png'\n",
    "\n",
    "# msk_path = '../examples/test/plane_mask.png'\n",
    "# gt_msk_path = '../examples/test/plane_mask_ground_truth.png'\n",
    "# img_path = '../examples/test/plane.png'\n",
    "# gt_mask = init.load_mask(path=gt_msk_path, convert=True)\n",
    "\n",
    "mask = init.load_mask(path=msk_path, convert=True)\n",
    "image = init.load_grayscale_image(img_path)\n",
    "\n",
    "regions = init._find_disjoint_masked_regions(mask)\n",
    "# NOTE: Uncomment to visialize initial masked reigons\n",
    "# init.visualize_masked_regions(mask, regions)\n",
    "\n",
    "regions = init.compute_masked_regions(image, mask)\n",
    "print('number of masked regions:', len(regions))\n"
   ]
  },
  {
   "cell_type": "markdown",
   "metadata": {},
   "source": [
    "### Initializing Ground truth Regions"
   ]
  },
  {
   "cell_type": "code",
   "execution_count": 3,
   "metadata": {},
   "outputs": [
    {
     "name": "stdout",
     "output_type": "stream",
     "text": "number of ground truth regions: 8\n"
    }
   ],
   "source": [
    "### Ground Truth regions\n",
    "gt_regions = init._find_disjoint_masked_regions(mask)\n",
    "# NOTE: Uncomment to visialize initial masked reigons\n",
    "# init.visualize_masked_regions(mask, gt_regions)\n",
    "\n",
    "gt_regions = init.compute_masked_regions(image, mask)\n",
    "print('number of ground truth regions:', len(gt_regions))\n"
   ]
  },
  {
   "cell_type": "markdown",
   "metadata": {},
   "source": [
    "## Initialize t-snakes\n",
    "_Note: Length 17 t-snake (i.e. the sort one) is visibly wrong, not sure how we can fix that_\n",
    "*Legend*\n",
    "* Green lines: Normal vectors\n",
    "* White Nodes: Initial 5 nodes of the snake\n",
    "* Yellow Nodes: Final 5 nodes of the snake\n",
    "    * This tells us which way the snake was initialized, Counter Clockwise or Clockwise"
   ]
  },
  {
   "cell_type": "code",
   "execution_count": 4,
   "metadata": {},
   "outputs": [
    {
     "name": "stdout",
     "output_type": "stream",
     "text": "Length of T-Snakes initialized on image:\n[174, 1049, 352, 464, 607, 132, 32, 1030]\n"
    }
   ],
   "source": [
    "tsnakes = []\n",
    "\n",
    "### Parameters for T-snakes ### \n",
    "sigma = 20.0    # gaussian filter sigma\n",
    "p = 1.0         # scale final image force with p\n",
    "c = 2.0         # scale gradient magnitude of image (applied before p)\n",
    "a = 1.0         # tension parameter\n",
    "b = 1.0         # bending parameter\n",
    "q = 1.0         # amplitude of the inflation force\n",
    "gamma = 1.0     # friction coefficient\n",
    "dt = 1.0        # time step\n",
    "threshold = 10  # inflation force treshold\n",
    "\n",
    "for region in regions:\n",
    "    tsnake = region.initialize_tsnake(\n",
    "        N=1000, p=p, c=c, sigma=sigma, a=a, b=b, q=q, gamma=gamma,\n",
    "        dt=dt, threshold=threshold\n",
    "    )\n",
    "    tsnakes.append(tsnake)\n",
    "    # region.visualize() # NOTE: To show tsnakes on images, uncomment\n",
    "\n",
    "t_snake_lengths = [len(t.nodes) for t in tsnakes]\n",
    "print('Length of T-Snakes initialized on image:\\n{}'.format(t_snake_lengths))\n"
   ]
  },
  {
   "cell_type": "markdown",
   "metadata": {},
   "source": [
    "### Initialize Ground Truth Snake\n",
    "* NOTE: Looks like there are still some issues with the normal initialization which will need to be addressed in snake.py\n",
    "* This ground truth will likely be improved if we can run it through a re-parametrization step"
   ]
  },
  {
   "cell_type": "code",
   "execution_count": 5,
   "metadata": {},
   "outputs": [],
   "source": [
    "for region in gt_regions:\n",
    "    try:\n",
    "        tsnake = region.initialize_tsnake(\n",
    "            N=1000, p=p, c=c, sigma=sigma, a=a, b=b, q=q, gamma=gamma, dt=dt\n",
    "        )\n",
    "        tsnakes.append(tsnake)\n",
    "        # region.visualize()\n",
    "    except IndexError:\n",
    "        print('Empty region, continuing...')\n"
   ]
  },
  {
   "cell_type": "markdown",
   "execution_count": 62,
   "metadata": {},
   "outputs": [],
   "source": [
    "## Create Grid"
   ]
  },
  {
   "cell_type": "code",
   "execution_count": 6,
   "metadata": {},
   "outputs": [
    {
     "name": "stdout",
     "output_type": "stream",
     "text": "image shape:  (512, 680)\nSimplex grid shape: (512, 680)\n"
    }
   ],
   "source": [
    "image = init.load_grayscale_image(img_path)\n",
    "print('image shape: ', image.shape)\n",
    "grid = Grid(image=image, scale=1)\n",
    "\n",
    "# Update grid\n",
    "# NOTE: Uncomment for force, expensive calculation\n",
    "force = grid.get_image_force(2,2,2)\n",
    "grid.gen_simplex_grid()\n",
    "print('Simplex grid shape: {}'.format(grid.grid.shape))\n"
   ]
  },
  {
   "cell_type": "markdown",
   "metadata": {},
   "source": [
    "## Test Intersection Computation"
   ]
  },
  {
   "cell_type": "code",
   "execution_count": 7,
   "metadata": {},
   "outputs": [
    {
     "name": "stdout",
     "output_type": "stream",
     "text": "shape of tsnakes: (16,)\nintersections shape: (16,)\nnum of intersections for each t-snake: [918, 6166, 1798, 2572, 3507, 702, 140, 6106, 918, 6166, 3507, 1798, 702, 6106, 140, 2572]\n"
    }
   ],
   "source": [
    "print('shape of tsnakes:', np.shape(tsnakes))\n",
    "\n",
    "# Compute snake intersections with grid\n",
    "intersections = grid.get_snake_intersections(tsnakes)\n",
    "print('intersections shape:', np.shape(intersections))\n",
    "\n",
    "n_inter_for_each_t_snake = [len(inter) for inter in intersections]\n",
    "print('num of intersections for each t-snake:', n_inter_for_each_t_snake)\n"
   ]
  },
  {
   "cell_type": "markdown",
   "metadata": {},
   "source": [
    "## Test snake evolution"
   ]
  },
  {
   "cell_type": "code",
   "execution_count": 8,
   "metadata": {},
   "outputs": [
    {
     "data": {
      "application/vnd.jupyter.widget-view+json": {
       "model_id": "1462271f0f694a9783f64cba68bf9ad3",
       "version_major": 2,
       "version_minor": 0
      },
      "text/plain": "HBox(children=(IntProgress(value=0, max=464), HTML(value='')))"
     },
     "metadata": {},
     "output_type": "display_data"
    },
    {
     "name": "stdout",
     "output_type": "stream",
     "text": "\n/Users/eric/Github/ucla-computer-science/completed-courses/cs-269-deformable-models/t-snake-mask-generation/tsnake/initialize.py:347: RuntimeWarning: More than 20 figures have been opened. Figures created through the pyplot interface (`matplotlib.pyplot.figure`) are retained until explicitly closed and may consume too much memory. (To control this warning, see the rcParam `figure.max_open_warning`).\n  f, ax = plt.subplots(figsize=figsize)\n\n"
    },
    {
     "data": {
      "application/vnd.jupyter.widget-view+json": {
       "model_id": "7e9c8f99dc804990928d9b197ca7334d",
       "version_major": 2,
       "version_minor": 0
      },
      "text/plain": "HBox(children=(IntProgress(value=0, max=20), HTML(value='')))"
     },
     "metadata": {},
     "output_type": "display_data"
    },
    {
     "data": {
      "text/plain": "<Figure size 576x576 with 0 Axes>"
     },
     "metadata": {},
     "output_type": "display_data"
    },
    {
     "data": {
      "text/plain": "<Figure size 576x576 with 0 Axes>"
     },
     "metadata": {},
     "output_type": "display_data"
    },
    {
     "data": {
      "text/plain": "<Figure size 576x576 with 0 Axes>"
     },
     "metadata": {},
     "output_type": "display_data"
    },
    {
     "data": {
      "text/plain": "<Figure size 576x576 with 0 Axes>"
     },
     "metadata": {},
     "output_type": "display_data"
    },
    {
     "data": {
      "text/plain": "<Figure size 576x576 with 0 Axes>"
     },
     "metadata": {},
     "output_type": "display_data"
    },
    {
     "data": {
      "text/plain": "<Figure size 576x576 with 0 Axes>"
     },
     "metadata": {},
     "output_type": "display_data"
    },
    {
     "data": {
      "text/plain": "<Figure size 576x576 with 0 Axes>"
     },
     "metadata": {},
     "output_type": "display_data"
    },
    {
     "data": {
      "text/plain": "<Figure size 576x576 with 0 Axes>"
     },
     "metadata": {},
     "output_type": "display_data"
    },
    {
     "data": {
      "text/plain": "<Figure size 576x576 with 0 Axes>"
     },
     "metadata": {},
     "output_type": "display_data"
    },
    {
     "data": {
      "text/plain": "<Figure size 576x576 with 0 Axes>"
     },
     "metadata": {},
     "output_type": "display_data"
    },
    {
     "data": {
      "text/plain": "<Figure size 576x576 with 0 Axes>"
     },
     "metadata": {},
     "output_type": "display_data"
    },
    {
     "data": {
      "text/plain": "<Figure size 576x576 with 0 Axes>"
     },
     "metadata": {},
     "output_type": "display_data"
    },
    {
     "data": {
      "text/plain": "<Figure size 576x576 with 0 Axes>"
     },
     "metadata": {},
     "output_type": "display_data"
    },
    {
     "data": {
      "text/plain": "<Figure size 576x576 with 0 Axes>"
     },
     "metadata": {},
     "output_type": "display_data"
    },
    {
     "data": {
      "text/plain": "<Figure size 576x576 with 0 Axes>"
     },
     "metadata": {},
     "output_type": "display_data"
    },
    {
     "data": {
      "text/plain": "<Figure size 576x576 with 0 Axes>"
     },
     "metadata": {},
     "output_type": "display_data"
    },
    {
     "data": {
      "text/plain": "<Figure size 576x576 with 0 Axes>"
     },
     "metadata": {},
     "output_type": "display_data"
    },
    {
     "data": {
      "text/plain": "<Figure size 576x576 with 0 Axes>"
     },
     "metadata": {},
     "output_type": "display_data"
    },
    {
     "data": {
      "text/plain": "<Figure size 576x576 with 0 Axes>"
     },
     "metadata": {},
     "output_type": "display_data"
    },
    {
     "data": {
      "text/plain": "<Figure size 576x576 with 0 Axes>"
     },
     "metadata": {},
     "output_type": "display_data"
    },
    {
     "data": {
      "text/plain": "<Figure size 576x576 with 0 Axes>"
     },
     "metadata": {},
     "output_type": "display_data"
    }
   ],
   "source": [
    "regions[-1].show_snake(save_fig='images/img0.png')\n",
    "\n",
    "# Test snake evolution\n",
    "M = 20 # number of m-steps (iterations)\n",
    "\n",
    "# Pick one of the snakes on the grid\n",
    "snake = tsnakes[-1] \n",
    "\n",
    "# save the initial position of the snake\n",
    "for i in tqdm(range(snake.num_nodes)):\n",
    "    pos = snake.nodes[i].position\n",
    "\n",
    "# run for M steps\n",
    "for j in tqdm(range(M)):\n",
    "    snake.m_step(1)\n",
    "\n",
    "    # save the updated positions of the nodes\n",
    "    # for i in range(snake.num_nodes):\n",
    "    #     pos = snake.nodes[i].position\n",
    "    #     #print(pos)\n",
    "    #     X[i, j+1] = pos[0,0]\n",
    "    #     Y[i, j+1]= pos[0,1]\n",
    "\n",
    "    regions[-1].show_snake(save_fig='images/img{}.png'.format(j+1))\n"
   ]
  },
  {
   "cell_type": "markdown",
   "metadata": {},
   "source": [
    "## Visualize Evolution"
   ]
  },
  {
   "cell_type": "code",
   "execution_count": 19,
   "metadata": {},
   "outputs": [],
   "source": [
    "### TODO ###\n",
    "# plt.imshow(image, cmap=plt.cm.binary)\n",
    "colors = ['red', 'blue', 'orange', 'green','black']\n",
    "# for i in tqdm(range(M)):\n",
    "#     plt.clf()\n",
    "#     plt.scatter(Y[:,i], X[:,i], c='red', s=1, alpha=0.5)\n",
    "#     plt.savefig('images/img{}.png'.format(i))\n"
   ]
  }
 ],
 "metadata": {
  "kernelspec": {
   "display_name": "Python 3",
   "language": "python",
   "name": "python3"
  },
  "language_info": {
   "codemirror_mode": {
    "name": "ipython",
    "version": 3
   },
   "file_extension": ".py",
   "mimetype": "text/x-python",
   "name": "python",
   "nbconvert_exporter": "python",
   "pygments_lexer": "ipython3",
   "version": "3.7.4"
  }
 },
 "nbformat": 4,
 "nbformat_minor": 2
}