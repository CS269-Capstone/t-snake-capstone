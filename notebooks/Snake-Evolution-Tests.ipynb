{
 "cells": [
  {
   "cell_type": "markdown",
   "metadata": {},
   "source": [
    "# Testing Snake creation and evolution\n",
    "Much (but not all) of this code will be duplicated to [main.py](../main.py)"
   ]
  },
  {
   "cell_type": "code",
   "execution_count": 7,
   "metadata": {},
   "outputs": [],
   "source": [
    "import cv2\n",
    "import numpy as np\n",
    "import matplotlib.pyplot as plt\n",
    "from tqdm import tqdm_notebook as tqdm\n",
    "\n",
    "import tsnake.initialize as init\n",
    "from tsnake.snake import TSnake, Element, Node\n",
    "from tsnake.grid import Grid, Point\n",
    "from tsnake.utils import dist, seg_intersect\n"
   ]
  },
  {
   "cell_type": "markdown",
   "metadata": {},
   "source": [
    "## Load images, compute masked reigons\n",
    "### Link to images I used for the plane are [here](https://drive.google.com/open?id=1TK6rc-USD4KKI0Bss_B6r4l13oAD2uqG)"
   ]
  },
  {
   "cell_type": "code",
   "execution_count": 2,
   "metadata": {},
   "outputs": [
    {
     "name": "stdout",
     "output_type": "stream",
     "text": [
      "New image shape is (137, 137)\n",
      "New mask shape is (137, 137)\n"
     ]
    },
    {
     "data": {
      "image/png": "[encoded data removed]",
      "text/plain": [
       "<Figure size 720x1440 with 2 Axes>"
      ]
     },
     "metadata": {
      "needs_background": "light"
     },
     "output_type": "display_data"
    },
    {
     "name": "stdout",
     "output_type": "stream",
     "text": [
      "number of masked regions: 1\n"
     ]
    }
   ],
   "source": [
    "# msk_path = '../examples/places2/case1_mask.png'\n",
    "# img_path = '../examples/places2/case1_raw.png'\n",
    "# img_path = '../examples/test/circle.png'\n",
    "img_path = '../examples/test/plane.png'\n",
    "\n",
    "mask = None # init.load_mask(path=msk_path, convert=True)\n",
    "image = init.load_grayscale_image(img_path)\n",
    "\n",
    "# Pad image to a square so ACID grid size can be upscaled\n",
    "h, w = image.shape\n",
    "if h > w:\n",
    "    temp = np.ones((h, h))*255\n",
    "    temp[:, :w] = image\n",
    "    image = temp\n",
    "else:\n",
    "    temp = np.ones((w, w))*255\n",
    "    temp[:h, :] = image\n",
    "    image = temp\n",
    "\n",
    "if mask is not None:\n",
    "    temp = np.zeros(image.shape)\n",
    "    if h > w:\n",
    "        temp[:, :w] = mask\n",
    "        mask = temp\n",
    "    else:\n",
    "        temp[:h, :] = mask\n",
    "        mask = temp\n",
    "\n",
    "mask = np.zeros_like(image)\n",
    "mask[5:-5, 5:-5] = 1\n",
    "\n",
    "print(\"New image shape is {}\".format(image.shape))\n",
    "print(\"New mask shape is {}\".format(mask.shape))\n",
    "\n",
    "regions = init._find_disjoint_masked_regions(mask)\n",
    "# NOTE: Uncomment to visialize initial masked reigons\n",
    "init.visualize_masked_regions(mask, regions)\n",
    "\n",
    "regions = init.compute_masked_regions(image, mask)\n",
    "print('number of masked regions:', len(regions))\n"
   ]
  },
  {
   "cell_type": "markdown",
   "metadata": {},
   "source": [
    "## Initialize t-snakes\n",
    "_Note: Length 17 t-snake (i.e. the sort one) is visibly wrong, not sure how we can fix that_\n",
    "*Legend*\n",
    "* Green lines: Normal vectors\n",
    "* White Nodes: Initial 5 nodes of the snake\n",
    "* Yellow Nodes: Final 5 nodes of the snake\n",
    "    * This tells us which way the snake was initialized, Counter Clockwise or Clockwise"
   ]
  },
  {
   "cell_type": "code",
   "execution_count": 3,
   "metadata": {},
   "outputs": [
    {
     "name": "stdout",
     "output_type": "stream",
     "text": [
      "Length of T-Snakes initialized on image:\n",
      "[167]\n"
     ]
    }
   ],
   "source": [
    "### Parameters for T-snakes ### \n",
    "N = image.shape[0]           # 30 nodes\n",
    "p = 0.006        # scale for Eq (7)\n",
    "c = 10.0         # scale for Eq (A.4)\n",
    "a = 8.5          # tension param in Eq (8)\n",
    "b = 16.0         # bending param in Eq (8)\n",
    "q = 19.0         # scale for Eq (4)\n",
    "gamma = 1.0      # friction param in Eq (8)\n",
    "dt = 0.08        # step size in Eq (8)\n",
    "sigma = 0.5      # gaussian filter param in Eq (A.4)\n",
    "k = 0.5          # param k in Eq (6)\n",
    "\n",
    "# region = compute_masked_regions(image, mask)[0]\n",
    "# region.initialize_tsnake(N, p, c, sigma, a, b, q, gamma, dt)\n",
    "# region.visualize()\n",
    "\n",
    "# snake = region._initial_tsnake\n",
    "\n",
    "tsnakes = []\n",
    "\n",
    "for region in regions:\n",
    "    tsnake = region.initialize_tsnake(\n",
    "        N=N, p=p, c=c, sigma=sigma, a=a, b=b, q=q, gamma=gamma,\n",
    "        dt=dt\n",
    "    )\n",
    "    tsnakes.append(tsnake)\n",
    "#     region.visualize() # NOTE: To show tsnakes on images, uncomment\n",
    "\n",
    "# tsnakes.sort(key=lambda t: len(t.nodes))\n",
    "t_snake_lengths = [len(t.nodes) for t in tsnakes]\n",
    "print('Length of T-Snakes initialized on image:\\n{}'.format(t_snake_lengths))"
   ]
  },
  {
   "cell_type": "markdown",
   "metadata": {},
   "source": [
    "## Create Grid"
   ]
  },
  {
   "cell_type": "code",
   "execution_count": 4,
   "metadata": {},
   "outputs": [
    {
     "name": "stdout",
     "output_type": "stream",
     "text": [
      "image shape:  (137, 137) \n",
      "scale:  137\n"
     ]
    }
   ],
   "source": [
    "# image = init.load_grayscale_image(img_path)\n",
    "xdim, ydim = image.shape\n",
    "scale = np.gcd(xdim, ydim)\n",
    "# scale /= 10\n",
    "print('image shape: ', image.shape, '\\nscale: ', scale)\n"
   ]
  },
  {
   "cell_type": "code",
   "execution_count": 5,
   "metadata": {},
   "outputs": [
    {
     "name": "stdout",
     "output_type": "stream",
     "text": [
      "Simplex grid shape: (2, 2)\n"
     ]
    }
   ],
   "source": [
    "acid_grid = Grid(image=image, scale=scale)\n",
    "\n",
    "# Update grid\n",
    "# NOTE: Uncomment for force, expensive calculation, done locally in each masked region\n",
    "# acid_grid.get_image_force(sigma=sigma, c=c, p=p)\n",
    "# acid_grid.get_inflation_force(threshold=threshold)\n",
    "acid_grid.gen_simplex_grid()\n",
    "print('Simplex grid shape: {}'.format(acid_grid.grid.shape))\n"
   ]
  },
  {
   "cell_type": "markdown",
   "metadata": {},
   "source": [
    "## Test snake evolution"
   ]
  },
  {
   "cell_type": "code",
   "execution_count": 6,
   "metadata": {
    "scrolled": true
   },
   "outputs": [
    {
     "ename": "IndexError",
     "evalue": "list index out of range",
     "output_type": "error",
     "traceback": [
      "\u001b[1;31m---------------------------------------------------------------------------\u001b[0m",
      "\u001b[1;31mIndexError\u001b[0m                                Traceback (most recent call last)",
      "\u001b[1;32m<ipython-input-6-a19f362b263e>\u001b[0m in \u001b[0;36m<module>\u001b[1;34m\u001b[0m\n\u001b[0;32m      6\u001b[0m \u001b[1;33m\u001b[0m\u001b[0m\n\u001b[0;32m      7\u001b[0m \u001b[1;33m\u001b[0m\u001b[0m\n\u001b[1;32m----> 8\u001b[1;33m \u001b[0mregion\u001b[0m \u001b[1;33m=\u001b[0m \u001b[0mregions\u001b[0m\u001b[1;33m[\u001b[0m\u001b[0mtarget_region\u001b[0m\u001b[1;33m]\u001b[0m\u001b[1;33m\u001b[0m\u001b[1;33m\u001b[0m\u001b[0m\n\u001b[0m\u001b[0;32m      9\u001b[0m \u001b[1;32mfor\u001b[0m \u001b[0mi\u001b[0m \u001b[1;32min\u001b[0m \u001b[0mtqdm\u001b[0m\u001b[1;33m(\u001b[0m\u001b[0mrange\u001b[0m\u001b[1;33m(\u001b[0m\u001b[0miterations\u001b[0m\u001b[1;33m)\u001b[0m\u001b[1;33m)\u001b[0m\u001b[1;33m:\u001b[0m\u001b[1;33m\u001b[0m\u001b[1;33m\u001b[0m\u001b[0m\n\u001b[0;32m     10\u001b[0m     \u001b[0mregion_snake\u001b[0m \u001b[1;33m=\u001b[0m \u001b[0mtsnakes\u001b[0m\u001b[1;33m[\u001b[0m\u001b[0mtarget_region\u001b[0m\u001b[1;33m]\u001b[0m\u001b[1;33m\u001b[0m\u001b[1;33m\u001b[0m\u001b[0m\n",
      "\u001b[1;31mIndexError\u001b[0m: list index out of range"
     ]
    }
   ],
   "source": [
    "iterations = 3\n",
    "target_region = 3\n",
    "M = 30\n",
    "plot_grid = acid_grid # Uncomment and comment next line to plot ACID grid lines on image\n",
    "# plot_grid = None\n",
    "\n",
    "\n",
    "region = regions[target_region]\n",
    "for i in tqdm(range(iterations)):\n",
    "    region_snake = tsnakes[target_region]\n",
    "    # Run:\n",
    "    # 1) the m-step function (which has M deformation steps), and\n",
    "    # 2) the reparameterization (occuring every M deformation steps)\n",
    "    region.show_snake(snake=region_snake, grid=plot_grid, save_fig='reparam/iter{}.0.png'.format(i))\n",
    "    \n",
    "    print(len(region_snake.nodes))\n",
    "    region_snake.m_step(M)\n",
    "    region.show_snake(snake=region_snake, grid=plot_grid, save_fig='reparam/iter{}.1.png'.format(i))\n",
    "    \n",
    "    new_region_snakes, grid_node_queue = acid_grid.reparameterize_phase_one([region_snake])\n",
    "    tsnakes[target_region] = new_region_snakes[0]\n",
    "    region.show_snake(snake=tsnakes[target_region], grid=plot_grid, save_fig='reparam/iter{}.2.png'.format(i))\n",
    "    print(len(new_region_snakes[0].nodes))\n",
    "    "
   ]
  },
  {
   "cell_type": "markdown",
   "metadata": {},
   "source": [
    "## Test Intersection Computation"
   ]
  },
  {
   "cell_type": "code",
   "execution_count": null,
   "metadata": {},
   "outputs": [],
   "source": [
    "print('shape of tsnakes:', np.shape(tsnakes))\n",
    "\n",
    "# Compute snake intersections with grid\n",
    "intersections = acid_grid.get_snake_intersections(tsnakes)\n",
    "print('intersections shape:', np.shape(intersections))\n",
    "\n",
    "n_inter_for_each_t_snake = [len(inter) for inter in intersections]\n",
    "print('num of intersections for each t-snake:', n_inter_for_each_t_snake)\n"
   ]
  }
 ],
 "metadata": {
  "kernelspec": {
   "display_name": "Python 3",
   "language": "python",
   "name": "python3"
  },
  "language_info": {
   "codemirror_mode": {
    "name": "ipython",
    "version": 3
   },
   "file_extension": ".py",
   "mimetype": "text/x-python",
   "name": "python",
   "nbconvert_exporter": "python",
   "pygments_lexer": "ipython3",
   "version": "3.7.1"
  },
  "latex_envs": {
   "LaTeX_envs_menu_present": true,
   "autoclose": false,
   "autocomplete": true,
   "bibliofile": "biblio.bib",
   "cite_by": "apalike",
   "current_citInitial": 1,
   "eqLabelWithNumbers": true,
   "eqNumInitial": 1,
   "hotkeys": {
    "equation": "Ctrl-E",
    "itemize": "Ctrl-I"
   },
   "labels_anchors": false,
   "latex_user_defs": false,
   "report_style_numbering": false,
   "user_envs_cfg": false
  }
 },
 "nbformat": 4,
 "nbformat_minor": 2
}
