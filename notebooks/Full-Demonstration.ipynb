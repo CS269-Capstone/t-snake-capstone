{
 "cells": [
  {
   "cell_type": "code",
   "execution_count": 1,
   "metadata": {},
   "outputs": [
    {
     "name": "stdout",
     "output_type": "stream",
     "text": [
      "WARNING:tensorflow:\n",
      "The TensorFlow contrib module will not be included in TensorFlow 2.0.\n",
      "For more information, please see:\n",
      "  * https://github.com/tensorflow/community/blob/master/rfcs/20180907-contrib-sunset.md\n",
      "  * https://github.com/tensorflow/addons\n",
      "  * https://github.com/tensorflow/io (for I/O related ops)\n",
      "If you depend on functionality not listed there, please file an issue.\n",
      "\n",
      "WARNING:tensorflow:From c:\\users\\allen\\appdata\\local\\programs\\python\\python37\\lib\\site-packages\\neuralgym\\ops\\layers.py:142: The name tf.image.resize_bilinear is deprecated. Please use tf.compat.v1.image.resize_bilinear instead.\n",
      "\n",
      "WARNING:tensorflow:From c:\\users\\allen\\appdata\\local\\programs\\python\\python37\\lib\\site-packages\\neuralgym\\callbacks\\npz_model_loader.py:31: The name tf.get_variable_scope is deprecated. Please use tf.compat.v1.get_variable_scope instead.\n",
      "\n",
      "WARNING:tensorflow:From c:\\users\\allen\\appdata\\local\\programs\\python\\python37\\lib\\site-packages\\neuralgym\\ops\\gan_ops.py:138: The name tf.layers.Conv2D is deprecated. Please use tf.compat.v1.layers.Conv2D instead.\n",
      "\n"
     ]
    }
   ],
   "source": [
    "from tsnake.main import Main\n",
    "import matplotlib.pyplot as plt"
   ]
  },
  {
   "cell_type": "code",
   "execution_count": 2,
   "metadata": {},
   "outputs": [],
   "source": [
    "N = 30           # 30 nodes\n",
    "p = 0.002        # scale for Eq (7)\n",
    "c = 10.0         # scale for Eq (A.4)\n",
    "a = 17.5         # tension param in Eq (8)\n",
    "b = 35.0         # bending param in Eq (8)\n",
    "q = 30.0         # scale for Eq (4)\n",
    "gamma = 4.0      # friction param in Eq (8)\n",
    "dt = 0.08        # step size in Eq (8)\n",
    "sigma = 1.0      # gaussian filter param in Eq (A.4)\n",
    "k = 1.0          # param k in Eq (6)\n",
    "\n",
    "M = 5            # \n",
    "\n",
    "# Set a (generous) tolerance criterion: all snake nodes must have \n",
    "# moved by less than 5 pixels for the snake to be considered converged\n",
    "tolerance = 5.0"
   ]
  },
  {
   "cell_type": "code",
   "execution_count": 3,
   "metadata": {},
   "outputs": [
    {
     "name": "stderr",
     "output_type": "stream",
     "text": [
      "c:\\users\\allen\\documents\\git-repos\\t-snake-capstone\\tsnake\\main.py:194: UserWarning: One or more T-snakes did not converge: see MaskedRegions {0}\n",
      "  warnings.warn('One or more T-snakes did not converge: see MaskedRegions %s' % to_finish)\n"
     ]
    },
    {
     "name": "stdout",
     "output_type": "stream",
     "text": [
      "Queue initally of length 0\n",
      "total blocked edges = 0\n",
      "# grid nodes turned on = 0 / 19044\n",
      "# grid nodes turned on in iteration = 0 / 19044\n",
      "Main found 0 nodes to be on\n"
     ]
    }
   ],
   "source": [
    "path_to_image = '../examples/test/plane.png'\n",
    "path_to_mask = '../examples/test/plane_mask.png'\n",
    "\n",
    "main = Main(path_to_image, path_to_mask)\n",
    "mask = main.run(\n",
    "    max_iter=1, tolerance=tolerance, N=N, p=p, c=c, a=a, b=b, q=q, gamma=gamma,\n",
    "    dt=dt, sigma=sigma, M=M\n",
    ")"
   ]
  },
  {
   "cell_type": "code",
   "execution_count": 4,
   "metadata": {},
   "outputs": [
    {
     "data": {
      "text/plain": [
       "<matplotlib.image.AxesImage at 0x250f1a754e0>"
      ]
     },
     "execution_count": 4,
     "metadata": {},
     "output_type": "execute_result"
    },
    {
     "data": {
      "image/png": "[encoded data removed]",
      "text/plain": [
       "<Figure size 720x720 with 1 Axes>"
      ]
     },
     "metadata": {
      "needs_background": "light"
     },
     "output_type": "display_data"
    }
   ],
   "source": [
    "f, ax = plt.subplots(figsize=(10,10))\n",
    "ax.imshow(mask)"
   ]
  }
 ],
 "metadata": {
  "kernelspec": {
   "display_name": "Python 3",
   "language": "python",
   "name": "python3"
  },
  "language_info": {
   "codemirror_mode": {
    "name": "ipython",
    "version": 3
   },
   "file_extension": ".py",
   "mimetype": "text/x-python",
   "name": "python",
   "nbconvert_exporter": "python",
   "pygments_lexer": "ipython3",
   "version": "3.7.1"
  },
  "latex_envs": {
   "LaTeX_envs_menu_present": true,
   "autoclose": false,
   "autocomplete": true,
   "bibliofile": "biblio.bib",
   "cite_by": "apalike",
   "current_citInitial": 1,
   "eqLabelWithNumbers": true,
   "eqNumInitial": 1,
   "hotkeys": {
    "equation": "Ctrl-E",
    "itemize": "Ctrl-I"
   },
   "labels_anchors": false,
   "latex_user_defs": false,
   "report_style_numbering": false,
   "user_envs_cfg": false
  }
 },
 "nbformat": 4,
 "nbformat_minor": 2
}
