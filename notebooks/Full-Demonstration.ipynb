{
 "cells": [
  {
   "cell_type": "code",
   "execution_count": 1,
   "metadata": {},
   "outputs": [],
   "source": [
    "import matplotlib.pyplot as plt\n",
    "\n",
    "import tsnake.initialize as init\n",
    "from tsnake.main import Main"
   ]
  },
  {
   "cell_type": "code",
   "execution_count": 2,
   "metadata": {},
   "outputs": [],
   "source": [
    "N = 30           # 30 nodes\n",
    "p = 0.002        # scale for Eq (7)\n",
    "c = 10.0         # scale for Eq (A.4)\n",
    "a = 17.5         # tension param in Eq (8)\n",
    "b = 35.0         # bending param in Eq (8)\n",
    "q = 30.0         # scale for Eq (4)\n",
    "gamma = 4.0      # friction param in Eq (8)\n",
    "dt = 0.08        # step size in Eq (8)\n",
    "sigma = 1.0      # gaussian filter param in Eq (A.4)\n",
    "k = 1.0          # param k in Eq (6)\n",
    "\n",
    "M = 5            # \n",
    "\n",
    "# Set a (generous) convergence criterion: all snake nodes must have \n",
    "# moved by less than 5 pixels for the snake to be considered converged\n",
    "tolerance = 5.0"
   ]
  },
  {
   "cell_type": "code",
   "execution_count": 3,
   "metadata": {},
   "outputs": [
    {
     "name": "stderr",
     "output_type": "stream",
     "text": [
      "/home/zimmermancole/cs269/t-snake-mask-generation/tsnake/main.py:199: UserWarning: One or more T-snakes did not converge: see MaskedRegions {0}\n",
      "  warnings.warn('One or more T-snakes did not converge: see MaskedRegions %s' % to_finish)\n"
     ]
    },
    {
     "name": "stdout",
     "output_type": "stream",
     "text": [
      "Queue initally of length 114\n",
      "total blocked edges = 125\n",
      "# grid nodes turned on = 109 / 19044\n",
      "# grid nodes turned on in iteration = 493 / 19044\n",
      "Main found [493/18769] nodes to be on\n"
     ]
    }
   ],
   "source": [
    "path_to_image = '../examples/test/plane.png'\n",
    "path_to_mask = '../examples/test/plane_mask.png'\n",
    "\n",
    "main = Main(path_to_image, path_to_mask)\n",
    "mask = main.run(\n",
    "    max_iter=1, tolerance=tolerance, N=N, p=p, c=c, a=a, b=b, q=q, gamma=gamma,\n",
    "    dt=dt, sigma=sigma, M=M\n",
    ")"
   ]
  },
  {
   "cell_type": "code",
   "execution_count": null,
   "metadata": {},
   "outputs": [],
   "source": [
    "main.compare_masks()"
   ]
  },
  {
   "cell_type": "code",
   "execution_count": null,
   "metadata": {},
   "outputs": [],
   "source": [
    "image = init.load_grayscale_image(path_to_image)\n",
    "\n",
    "f, (ax1, ax2) = plt.subplots(1, 2, figsize=(10,10))\n",
    "\n",
    "ax1.imshow(image, cmap=plt.cm.binary)\n",
    "ax2.imshow(mask, cmap=plt.cm.binary)\n",
    "\n",
    "plt.show()"
   ]
  }
 ],
 "metadata": {
  "kernelspec": {
   "display_name": "Python 3",
   "language": "python",
   "name": "python3"
  },
  "language_info": {
   "codemirror_mode": {
    "name": "ipython",
    "version": 3
   },
   "file_extension": ".py",
   "mimetype": "text/x-python",
   "name": "python",
   "nbconvert_exporter": "python",
   "pygments_lexer": "ipython3",
   "version": "3.6.7"
  },
  "latex_envs": {
   "LaTeX_envs_menu_present": true,
   "autoclose": false,
   "autocomplete": true,
   "bibliofile": "biblio.bib",
   "cite_by": "apalike",
   "current_citInitial": 1,
   "eqLabelWithNumbers": true,
   "eqNumInitial": 1,
   "hotkeys": {
    "equation": "Ctrl-E",
    "itemize": "Ctrl-I"
   },
   "labels_anchors": false,
   "latex_user_defs": false,
   "report_style_numbering": false,
   "user_envs_cfg": false
  }
 },
 "nbformat": 4,
 "nbformat_minor": 2
}
